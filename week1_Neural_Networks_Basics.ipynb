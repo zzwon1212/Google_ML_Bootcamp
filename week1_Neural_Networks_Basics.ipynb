{
 "cells": [
  {
   "cell_type": "markdown",
   "metadata": {},
   "source": [
    "# Vectorization"
   ]
  },
  {
   "cell_type": "code",
   "execution_count": 1,
   "metadata": {},
   "outputs": [
    {
     "name": "stdout",
     "output_type": "stream",
     "text": [
      "249968.93396514625\n",
      "Vectorized version:0.9922981262207031ms\n",
      "249968.9339651528\n",
      "For loop:654.2835235595703ms\n"
     ]
    }
   ],
   "source": [
    "import numpy as np\n",
    "import time\n",
    "\n",
    "a = np.random.rand(1000000)\n",
    "b = np.random.rand(1000000)\n",
    "\n",
    "tic = time.time()\n",
    "c = np.dot(a,b)\n",
    "toc = time.time()\n",
    "\n",
    "print(c)\n",
    "print(\"Vectorized version:\" + str(1000*(toc-tic)) + \"ms\")\n",
    "\n",
    "c = 0\n",
    "tic = time.time()\n",
    "for i in range(1000000):\n",
    "    c += a[i]*b[i]\n",
    "toc = time.time()\n",
    "\n",
    "print(c)\n",
    "print(\"For loop:\" + str(1000*(toc-tic)) + \"ms\")"
   ]
  },
  {
   "cell_type": "code",
   "execution_count": 2,
   "metadata": {},
   "outputs": [
    {
     "name": "stdout",
     "output_type": "stream",
     "text": [
      "[1.0367691  1.01246253 1.36800286 ... 1.4820292  2.13319379 1.14483248]\n",
      "Vectorized version:9.006977081298828ms\n",
      "[1.0367691  1.01246253 1.36800286 ... 1.4820292  2.13319379 1.14483248]\n",
      "For loop:690.1969909667969ms\n"
     ]
    }
   ],
   "source": [
    "import math\n",
    "\n",
    "v = np.random.rand(1000000)\n",
    "\n",
    "tic = time.time()\n",
    "u = np.exp(v)\n",
    "toc = time.time()\n",
    "\n",
    "print(u)\n",
    "print(\"Vectorized version:\" + str(1000*(toc-tic)) + \"ms\")\n",
    "\n",
    "u = np.zeros((1000000, 1))\n",
    "tic = time.time()\n",
    "for i in range(1000000):\n",
    "    u[i] = math.exp(v[i])\n",
    "toc = time.time()\n",
    "\n",
    "print(u.reshape((-1)))\n",
    "print(\"For loop:\" + str(1000*(toc-tic)) + \"ms\")"
   ]
  },
  {
   "cell_type": "markdown",
   "metadata": {},
   "source": [
    "# Broadcasting"
   ]
  },
  {
   "cell_type": "code",
   "execution_count": 3,
   "metadata": {},
   "outputs": [
    {
     "name": "stdout",
     "output_type": "stream",
     "text": [
      "[[ 56.    0.    4.4  68. ]\n",
      " [  1.2 104.   52.    8. ]\n",
      " [  1.8 135.   99.    0.9]]\n"
     ]
    }
   ],
   "source": [
    "A = np.array([[56.0, 0.0, 4.4, 68.0],\n",
    "              [1.2, 104.0, 52.0, 8.0],\n",
    "              [1.8, 135.0, 99.0, 0.9]])\n",
    "print(A)"
   ]
  },
  {
   "cell_type": "code",
   "execution_count": 4,
   "metadata": {},
   "outputs": [
    {
     "name": "stdout",
     "output_type": "stream",
     "text": [
      "[ 59.  239.  155.4  76.9]\n"
     ]
    }
   ],
   "source": [
    "cal = A.sum(axis=0)\n",
    "print(cal)"
   ]
  },
  {
   "cell_type": "code",
   "execution_count": 5,
   "metadata": {},
   "outputs": [
    {
     "name": "stdout",
     "output_type": "stream",
     "text": [
      "[[94.91525424  0.          2.83140283 88.42652796]\n",
      " [ 2.03389831 43.51464435 33.46203346 10.40312094]\n",
      " [ 3.05084746 56.48535565 63.70656371  1.17035111]]\n"
     ]
    }
   ],
   "source": [
    "percentage = A/cal.reshape((1,4))*100\n",
    "print(percentage)"
   ]
  },
  {
   "cell_type": "markdown",
   "metadata": {},
   "source": [
    "# Python-Numpy vectors"
   ]
  },
  {
   "cell_type": "code",
   "execution_count": 6,
   "metadata": {},
   "outputs": [
    {
     "name": "stdout",
     "output_type": "stream",
     "text": [
      "[-1.40667689 -0.73415723  0.4691655   1.04979264 -2.742205  ]\n",
      "(5,)\n",
      "[-1.40667689 -0.73415723  0.4691655   1.04979264 -2.742205  ]\n",
      "11.359595825466538\n"
     ]
    }
   ],
   "source": [
    "a = np.random.randn(5)\n",
    "print(a)\n",
    "print(a.shape)\n",
    "print(a.T)\n",
    "print(np.dot(a, a.T))"
   ]
  },
  {
   "cell_type": "code",
   "execution_count": 7,
   "metadata": {},
   "outputs": [
    {
     "name": "stdout",
     "output_type": "stream",
     "text": [
      "[[ 2.39072302]\n",
      " [-0.18940607]\n",
      " [ 0.98978614]\n",
      " [-2.04177445]\n",
      " [-1.14037125]]\n",
      "(5, 1)\n",
      "[[ 2.39072302 -0.18940607  0.98978614 -2.04177445 -1.14037125]]\n",
      "[[ 5.71555657 -0.45281746  2.36630451 -4.88131718 -2.72631181]\n",
      " [-0.45281746  0.03587466 -0.18747151  0.38672448  0.21599324]\n",
      " [ 2.36630451 -0.18747151  0.9796766  -2.02092005 -1.12872366]\n",
      " [-4.88131718  0.38672448 -2.02092005  4.1688429   2.32838089]\n",
      " [-2.72631181  0.21599324 -1.12872366  2.32838089  1.3004466 ]]\n"
     ]
    }
   ],
   "source": [
    "a = np.random.randn(5, 1)\n",
    "print(a)\n",
    "print(a.shape)\n",
    "print(a.T)\n",
    "print(np.dot(a, a.T))"
   ]
  },
  {
   "cell_type": "code",
   "execution_count": 8,
   "metadata": {},
   "outputs": [],
   "source": [
    "# assert False\n",
    "assert a.shape == (5,1)"
   ]
  },
  {
   "cell_type": "markdown",
   "metadata": {},
   "source": [
    "Don't use rank 1 arrays. Don't be shy about calling the `reshape`.\n",
    "\n",
    "Feel free to toss a lot of assertion statements, so double-check the dimensions of your matrices and arrays."
   ]
  },
  {
   "cell_type": "code",
   "execution_count": 12,
   "metadata": {},
   "outputs": [
    {
     "data": {
      "text/plain": [
       "array([[-3.47861724, -1.5894475 ,  0.71793733],\n",
       "       [-0.55910777,  0.01154266,  0.62295756],\n",
       "       [ 0.41660602, -0.18550948, -0.21065871]])"
      ]
     },
     "execution_count": 12,
     "metadata": {},
     "output_type": "execute_result"
    }
   ],
   "source": [
    "a = np.random.randn(3, 3)\n",
    "b = np.random.randn(3, 1)\n",
    "c = a*b\n",
    "c"
   ]
  }
 ],
 "metadata": {
  "kernelspec": {
   "display_name": "[AI]",
   "language": "python",
   "name": "ai"
  },
  "language_info": {
   "codemirror_mode": {
    "name": "ipython",
    "version": 3
   },
   "file_extension": ".py",
   "mimetype": "text/x-python",
   "name": "python",
   "nbconvert_exporter": "python",
   "pygments_lexer": "ipython3",
   "version": "3.8.5"
  }
 },
 "nbformat": 4,
 "nbformat_minor": 4
}
